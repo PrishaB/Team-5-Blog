{
 "cells": [
  {
   "cell_type": "markdown",
   "metadata": {},
   "source": [
    "# Title"
   ]
  },
  {
   "cell_type": "markdown",
   "metadata": {},
   "source": [
    "## Brainwrite"
   ]
  },
  {
   "cell_type": "markdown",
   "metadata": {},
   "source": [
    "[Title] is a website dedicated towards mental health in DNHS and focuses on improving student’s mental wellbeing. With the increases in stress throughout high school, as students end up taking higher coursework and end up in loads of extracurriculars-- not to mention any personal and familial issues, many students find it hard to deal with the burden it can have on one's physical and mental health. This was the inspiration towards our website, as we hoped to create a website that is able to help aid any struggling students and let them know that they are not alone."
   ]
  },
  {
   "cell_type": "markdown",
   "metadata": {},
   "source": [
    "Our project plan hopes to include the following: chatting, social networking, planners, mental health resources and tips, planners, as well as articles/blogs to share personal experiences with or about the topic. "
   ]
  },
  {
   "cell_type": "markdown",
   "metadata": {},
   "source": [
    "We are also planning to get the Ap psych teacher to help sponsor our work "
   ]
  },
  {
   "cell_type": "markdown",
   "metadata": {},
   "source": [
    "## Wireframe"
   ]
  },
  {
   "cell_type": "markdown",
   "metadata": {},
   "source": [
    "![](Screen Shot 2022-09-26 at 6.07.45 PM.png)"
   ]
  },
  {
   "cell_type": "markdown",
   "metadata": {},
   "source": [
    "As seen, we have a cover page with a navbar showing 6 buttons: About, Calendar, Blogs, Chats, Tips/Resources, Login. All of these buttons lead us to different screens with the corresponding information. "
   ]
  },
  {
   "cell_type": "markdown",
   "metadata": {},
   "source": [
    "The About page talks about our mission statement for the site as well as a brief description of the team members and their roles. "
   ]
  },
  {
   "cell_type": "markdown",
   "metadata": {},
   "source": [
    "The Calendar provides a place for the users to schedule their life so that they can maintain balance and better manage stress.  "
   ]
  },
  {
   "cell_type": "markdown",
   "metadata": {},
   "source": [
    "The Blogs provide articles for the users to share their experiences and knowledge about mental health. One of the features we hope to implement would be adding an option to decide whether to have it set to private vs public so that our users can decide whether or not they prefer to have a more diary like experience or a more blog like one where they can interact and share with other users."
   ]
  },
  {
   "cell_type": "markdown",
   "metadata": {},
   "source": [
    "Chats page provides a chat room of sorts for the users to interact with. We are thinking of potentially adding a school wide chat room so that any student from DNHS can access it and talk on it as long as they have an account. One of the things we were thinking of implementing would be to add a more personal account so when you sign up you would be able to jot down any preferences you have and this can help you match up with other like-minded folks which would be a great way to help meet new people and make new friends."
   ]
  },
  {
   "cell_type": "markdown",
   "metadata": {},
   "source": [
    "The Tips/Resources section provides links/numbers to hotlines for various mental health purposes."
   ]
  }
 ],
 "metadata": {
  "language_info": {
   "name": "python"
  },
  "orig_nbformat": 4
 },
 "nbformat": 4,
 "nbformat_minor": 2
}
