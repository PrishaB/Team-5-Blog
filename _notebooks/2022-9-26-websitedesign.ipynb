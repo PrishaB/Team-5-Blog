{
 "cells": [
  {
   "cell_type": "markdown",
   "metadata": {},
   "source": [
    "# Title"
   ]
  },
  {
   "cell_type": "markdown",
   "metadata": {},
   "source": [
    "## Brainwrite"
   ]
  },
  {
   "cell_type": "markdown",
   "metadata": {},
   "source": [
    "Today we started our brainstorming for our project design. Our project is about mental health in DNHS and focuses on improving student’s mental wellbeing including: chatting, social networking, mental health resources and tips, as well as articles/blogs to share personal experiences with or about the topic. "
   ]
  },
  {
   "cell_type": "markdown",
   "metadata": {},
   "source": [
    "![](Screen Shot 2022-09-26 at 6.07.45 PM.png)"
   ]
  },
  {
   "cell_type": "markdown",
   "metadata": {},
   "source": [
    "As seen, we have a cover page with a navbar showing 6 buttons: About, Calendar, Blogs, Chats, Tips/Resources, Login. All of these buttons lead us to different screens with the corresponding information. "
   ]
  },
  {
   "cell_type": "markdown",
   "metadata": {},
   "source": [
    "The About page talks about our mission statement for the site as well as a brief description of the team members and their roles. "
   ]
  },
  {
   "cell_type": "markdown",
   "metadata": {},
   "source": [
    "The Calendar provides a place for the users to schedule their life so that they can maintain balance and better manage stress. "
   ]
  },
  {
   "cell_type": "markdown",
   "metadata": {},
   "source": [
    "The Blogs provide articles for the users to share their experiences and knowledge about mental health."
   ]
  },
  {
   "cell_type": "markdown",
   "metadata": {},
   "source": [
    "Chats page provides a chat room of sorts for the users to interact with. We are thinking of potentially adding a school wide chat room so that any student from DNHS can access it and talk on it as long as they have an account. "
   ]
  },
  {
   "cell_type": "markdown",
   "metadata": {},
   "source": [
    "The Tips/Resources section provides links/numbers to hotlines for various mental health purposes."
   ]
  }
 ],
 "metadata": {
  "language_info": {
   "name": "python"
  },
  "orig_nbformat": 4
 },
 "nbformat": 4,
 "nbformat_minor": 2
}
