{
 "cells": [
  {
   "cell_type": "code",
   "execution_count": 43,
   "metadata": {
    "vscode": {
     "languageId": "java"
    }
   },
   "outputs": [
    {
     "name": "stdout",
     "output_type": "stream",
     "text": [
      "Social Interaction\n",
      "Exercise\n",
      "Learn new skills\n",
      "Mindfulness\n",
      "Increase sleep\n",
      "Eat well\n",
      "Work on hobbies\n",
      "Ask for help\n",
      "  \n",
      "New List: \n",
      "Learn new skills\n",
      "Mindfulness\n",
      "Increase sleep\n",
      "Eat well\n",
      "Work on hobbies\n",
      "Ask for help\n",
      " \n",
      "New element zero: Manage your time\n",
      " \n",
      "The size is: 6\n",
      "Following two commands will return false since the element Exercise no longer exists\n",
      "false\n",
      "false\n",
      "Following command will return true as Better_mental_health still contains the list Continuation\n",
      "true\n",
      "These two will be negative one as the element exercise does not exist anymore \n",
      "-1\n",
      "-1\n",
      "List Hash Code: 1538755170\n",
      " \n",
      "Final List\n",
      "Ask for help\n",
      "Eat well\n",
      "Increase sleep\n",
      "Manage your time\n",
      "Mindfulness\n",
      "Work on hobbies\n",
      " \n",
      "There is no longer any elements here []\n"
     ]
    }
   ],
   "source": [
    "import java.util.ArrayList;\n",
    "public class Wellbeing{\n",
    "    public static void main(String[] Args){\n",
    "        ArrayList<String>Better_mental_health= new ArrayList<String>();\n",
    "        // Will add elements\n",
    "        Better_mental_health.add(\"Social Interaction\");\n",
    "        Better_mental_health.add(\"Exercise\");\n",
    "        Better_mental_health.add(\"Learn new skills\");\n",
    "        Better_mental_health.add(\"Mindfulness\");\n",
    "        Better_mental_health.add(\"Increase sleep\");\n",
    "        Better_mental_health.add(\"Eat well\");\n",
    "        //New arraylist called Continuation \n",
    "        ArrayList<String>Continuation= new ArrayList<String>();\n",
    "        Continuation.add(0,\"Work on hobbies\");\n",
    "        Continuation.add(1,\"Ask for help\");\n",
    "        //Will add the list Continuation to Better_mental_health \n",
    "        Better_mental_health.addAll(Continuation);\n",
    "        // Iterate through list\n",
    "        for(String i: Better_mental_health){\n",
    "            System.out.println(i);\n",
    "        }\n",
    "        //Removes these elements\n",
    "        Better_mental_health.remove(0);\n",
    "        Better_mental_health.remove(\"Exercise\");\n",
    "        System.out.println(\"  \");\n",
    "        System.out.println(\"New List: \");\n",
    "        for(String i: Better_mental_health){\n",
    "            System.out.println(i);\n",
    "        }\n",
    "        System.out.println(\" \");\n",
    "        Better_mental_health.set(0, \"Manage your time\");\n",
    "        System.out.println(\"New element zero: \"+Better_mental_health.get(0));\n",
    "        System.out.println(\" \");\n",
    "        System.out.println(\"The size is: \" + Better_mental_health.size());\n",
    "\n",
    "        System.out.println(\"Following two commands will return false since the element Exercise no longer exists\");\n",
    "        System.out.println(Better_mental_health.equals(\"Exercise\"));\n",
    "        System.out.println(Better_mental_health.contains(\"Exercise\"));\n",
    "        System.out.println(\"Following command will return true as Better_mental_health still contains the list Continuation\");\n",
    "        System.out.println(Better_mental_health.containsAll(Continuation));\n",
    "        System.out.println(\"These two will be negative one as the element exercise does not exist anymore \");\n",
    "        System.out.println(Better_mental_health.indexOf(\"Exercise\"));\n",
    "        System.out.println(Better_mental_health.lastIndexOf(\"Exercise\"));\n",
    "\n",
    "        System.out.println(\"List Hash Code: \"+Better_mental_health.hashCode());\n",
    "\n",
    "        System.out.println(\" \");\n",
    "        System.out.println(\"Final List\");\n",
    "        Collections.sort(Better_mental_health);\n",
    "        for(String i: Better_mental_health){\n",
    "            System.out.println(i);\n",
    "        }\n",
    "\n",
    "        System.out.println(\" \");\n",
    "        Better_mental_health.clear();\n",
    "        System.out.println(\"There is no longer any elements here \" + Better_mental_health);\n",
    "        Better_mental_health.isEmpty();\n",
    "\n",
    "        \n",
    "        \n",
    "    }\n",
    "}\n",
    "Wellbeing.main(null);"
   ]
  }
 ],
 "metadata": {
  "kernelspec": {
   "display_name": "Java",
   "language": "java",
   "name": "java"
  },
  "language_info": {
   "codemirror_mode": "java",
   "file_extension": ".jshell",
   "mimetype": "text/x-java-source",
   "name": "Java",
   "pygments_lexer": "java",
   "version": "18.0.2+0"
  },
  "orig_nbformat": 4,
  "vscode": {
   "interpreter": {
    "hash": "aee8b7b246df8f9039afb4144a1f6fd8d2ca17a180786b69acc140d282b71a49"
   }
  }
 },
 "nbformat": 4,
 "nbformat_minor": 2
}
