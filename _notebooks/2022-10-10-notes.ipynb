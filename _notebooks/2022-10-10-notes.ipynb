{
 "cells": [
  {
   "cell_type": "markdown",
   "metadata": {},
   "source": [
    "# SpringBoot notes"
   ]
  },
  {
   "cell_type": "markdown",
   "metadata": {},
   "source": [
    "Springboot will allow us to run a java application where we can just run it without anything. To do this we will have just one main file which would have two arguments. This first will have the file that springboot will run and the other can just be args meaning that nothing will be passed through"
   ]
  },
  {
   "cell_type": "markdown",
   "metadata": {},
   "source": [
    "## Pojo and Beans"
   ]
  },
  {
   "cell_type": "markdown",
   "metadata": {},
   "source": [
    "A pojo stands for a Plain old Java Object meaning that it has to fit several criteria. These criteria are that it can't have any extends, implements, annotations, and so that way it can be run just by itself. You can turn a Pojo into an entity with the \\@Entity annotation and then you must add an \\@Id annotation as every entity needs a unique identifier and so primary key values"
   ]
  },
  {
   "cell_type": "markdown",
   "metadata": {},
   "source": [
    "A Java Bean is also a pojo but it is a bit more strict. For example it has a bit more criteria and standards. These standards are that the properties must be private, there must be public gets and sets, and it must implement serializable which means that it can be written to things like databases and files. Additionally, it must have a no args constructor which will be given by default by java if you do not create one yourself. A no args constructor is just a constructor without a parameter"
   ]
  },
  {
   "cell_type": "markdown",
   "metadata": {},
   "source": [
    "## JPA"
   ]
  },
  {
   "cell_type": "markdown",
   "metadata": {},
   "source": [
    "Now that you have an application you would need to connect to a database. JPA stands for Java Persistence API and basically it allows you to do ORM, aka Object relational mapping when you have a database connection. To persist something means to essentially move one thing into your database and then keep it there forever. To implement the database you need to use implement repository."
   ]
  },
  {
   "cell_type": "markdown",
   "metadata": {},
   "source": [
    "## Pom.xml"
   ]
  },
  {
   "cell_type": "markdown",
   "metadata": {},
   "source": [
    "The Pom.xml file is for dependencies- basically saying that this file is dependent on the parent and will inherit their properties. Spring will give you some things by default so to access it you will need to add this into your pom.xml to say that you would want to inherit this. \\<Dependencies> will contain what jars you would want maven to download and the \\<parent> will tell you what version of jars you want and \\<Properties> will change the version of java from your inherited one. Maven will download this automatically as the Bill of materials- the combination of jars that work well based on what versions you want. Maven is essentially the program for dependency management. "
   ]
  },
  {
   "cell_type": "markdown",
   "metadata": {},
   "source": [
    "## Controllers"
   ]
  },
  {
   "cell_type": "markdown",
   "metadata": {},
   "source": [
    "Java will allow access to a TomCat server by default which would allow you to run your application on localhost in a closed loop. It will work as a webserver that will take in http requests on the port specified. Once you run your application, you need to find a way to control what code to run to any http requests. This is what a controller does. A controller uses Spring mvc to make a restAPI to do this (basically it will convert this list to json). The annotation to declare that this is a controller is \\@Controller and the annotation to state what url you are mapping to would be for example \\@GetMapping(\"/birds\"). The default for this would be a GET request so if you would like to use for example a POST request, you would need to mention it. Such as in your \\@RequestMapping(method=RequestMethod.POST, value =\"/      \"). It will map to this method when you gain this value request."
   ]
  },
  {
   "cell_type": "markdown",
   "metadata": {},
   "source": [
    "## Business "
   ]
  },
  {
   "cell_type": "markdown",
   "metadata": {},
   "source": [
    "You can also make a Business service which will allow you to use the same instance every time vs spring making a new instance every time you get a request. This is because this is a singleton which will only have one instance of it made. The annotation to declare that you would make a dependency on this service would be \\@autowired which will tell spring to inject that service into that class and to make a service you would need the annotation \\@service. "
   ]
  },
  {
   "cell_type": "markdown",
   "metadata": {},
   "source": [
    "## GET, POST, PUT, DELETE"
   ]
  },
  {
   "cell_type": "markdown",
   "metadata": {},
   "source": [
    "- Get gets the thing\n",
    "- Post makes a new thing\n",
    "- Put updates the thing\n",
    "- Delete deletes the thing"
   ]
  }
 ],
 "metadata": {
  "kernelspec": {
   "display_name": "Java",
   "language": "java",
   "name": "java"
  },
  "language_info": {
   "name": "java"
  },
  "orig_nbformat": 4
 },
 "nbformat": 4,
 "nbformat_minor": 2
}
