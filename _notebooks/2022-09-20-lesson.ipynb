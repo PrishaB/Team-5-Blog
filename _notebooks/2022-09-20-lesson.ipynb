{
 "cells": [
  {
   "cell_type": "markdown",
   "metadata": {},
   "source": [
    "# Sept 20 Lesson Plan\n",
    "> Practice with FRQs and Arrays/Iteration\n",
    "\n",
    "- toc: true \n",
    "- badges: true\n",
    "- comments: true\n",
    "- categories: [jupyter]\n",
    "- image: images/chart-preview.png"
   ]
  },
  {
   "cell_type": "markdown",
   "metadata": {},
   "source": [
    "## Brief Review\n",
    "\n",
    "![loops](https://github.com/PrishaB/Team-5-Blog/blob/master/images/Loops.JPG)\n",
    "\n",
    "![Methods](https://github.com/PrishaB/Team-5-Blog/blob/master/images/Methods.JPG)"
   ]
  },
  {
   "cell_type": "markdown",
   "metadata": {},
   "source": [
    "## 2018 FRQ\n",
    "\n",
    "The prompt is essentially a simulation of a frog hopping. The frog can jump back and forth and it is considered a success if it makes it to the goal in the amount of jumps given. \n",
    "\n",
    "![2018IntroFRQ](https://github.com/PrishaB/Team-5-Blog/blob/master/images/2018intro.png)\n"
   ]
  }
 ],
 "metadata": {
  "kernelspec": {
   "display_name": "Java",
   "language": "java",
   "name": "java"
  },
  "language_info": {
   "name": "java"
  },
  "orig_nbformat": 4
 },
 "nbformat": 4,
 "nbformat_minor": 2
}
