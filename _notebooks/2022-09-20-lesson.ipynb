{
 "cells": [
  {
   "cell_type": "markdown",
   "metadata": {},
   "source": [
    "# Sept 20 Lesson Plan\n",
    "> Practice with FRQs and Arrays/Iteration\n",
    "\n",
    "- toc: true \n",
    "- badges: true\n",
    "- comments: true\n",
    "- categories: [jupyter]\n",
    "- image: images/chart-preview.png"
   ]
  },
  {
   "cell_type": "markdown",
   "metadata": {},
   "source": [
    "## Brief Review\n",
    "\n",
    "[Loops](https://github.com/PrishaB/Team-5-Blog/blob/master/images/Loops.JPG)\n",
    "\n",
    "[Methods](https://github.com/PrishaB/Team-5-Blog/blob/master/images/Methods.JPG)"
   ]
  },
  {
   "cell_type": "markdown",
   "metadata": {},
   "source": [
    "## 2018 FRQ #1 Overview\n",
    "\n",
    "The prompt is essentially a simulation of a frog hopping. The frog can jump back and forth and it is considered a success if it makes it to the goal in the amount of jumps given. \n",
    "\n",
    "[2018IntroFRQ](https://github.com/PrishaB/Team-5-Blog/blob/master/images/2018intro.png)\n"
   ]
  },
  {
   "cell_type": "markdown",
   "metadata": {},
   "source": [
    "## 2018 FRQ #1a\n",
    "\n",
    "Part A: The purpose is to make it so that if we call the method FrogSimulation using FrogSimulation sim = new FrogSimulation(24,5);. The simulation would have a goal at a distance of 24 inches and a maximum amount of 5 jumps. If the frog makes it to or past the goal sim, simulate will return true and if it is negative or has just not made it to the goal but is not a negative value then it will return false."
   ]
  },
  {
   "cell_type": "code",
   "execution_count": null,
   "metadata": {
    "vscode": {
     "languageId": "java"
    }
   },
   "outputs": [],
   "source": [
    "public class FrogSimulation {\n",
    "    private int goalDistance;\n",
    "    private int maxHops;\n",
    "\n",
    "    public FrogSimulation(int dist, int numHops){\n",
    "        goalDistance=dist;\n",
    "        maxHops=numHops;\n",
    "    }\n",
    "\n",
    "    private int hopDistance(){}\n",
    "    public boolean simulate(){}\n",
    "    public double runSimulations(int num){}\n",
    "}"
   ]
  },
  {
   "cell_type": "markdown",
   "metadata": {},
   "source": [
    "## 2018 FRQ #1a Solution\n",
    "\n",
    "First we define location to be at zero, our starting point. Then we use a for loop so that i will continue to increase until it reaches the max number of hops and so that for as long as this happens, the frog will hop (ie. location= location+hopDistance, which means that the distance the frog jumps will be added to location every time the frog jumps in order to have the final location of the frog). After the frog has finished jumping, we used an if loop so that if the frog is at or beyond the goal then it will be true and if it is at a negative value or behind the starting value then it will return false. If the frog has used up all its jumps but has not made it to the goal or at a negative value then it will return false regardless which is done by a return false outside of the for loop."
   ]
  },
  {
   "cell_type": "code",
   "execution_count": null,
   "metadata": {
    "vscode": {
     "languageId": "java"
    }
   },
   "outputs": [],
   "source": [
    "public boolean simulat(){\n",
    "    int location=0;\n",
    "    for (int i=0; i<numHops; i++){\n",
    "        location +=hopDistance();\n",
    "        if(dist<=location){\n",
    "            return true;\n",
    "        } else if (lovation<0){\n",
    "            return false;\n",
    "        }\n",
    "    }\n",
    "    return false;\n",
    "}"
   ]
  },
  {
   "cell_type": "markdown",
   "metadata": {},
   "source": [
    "## 2018 FRQ #1b\n",
    "\n",
    "Part B: We can then use the values given by the method simulate in order to finish the simulation of the frog. Prompt B is asking for us to finish the simulation and declare whether or not the frog has won the game i.e. made it to the goal, which we can find using the boolean values given by simulate, and then find the proportion of wins overall after a certain number of runs."
   ]
  },
  {
   "cell_type": "markdown",
   "metadata": {},
   "source": [
    "## 2018 FRQ #1b Solution\n",
    "\n",
    "This is a method called runSimulations and basically if we call this method such as FrogSimulation run = new FrogSimulation(23); it should run the simulation 23 times and count the number of successes- which will eventually be changed into a decimal of successes/tries. We do this by setting the number of successes to zero to begin with and then we use a for loop, with basically the same idea as part a, so that the code will run for as many times as directed. Then inside of that for loop, we have an if loop so that for as long as simulate runs true then the success counter will increase and the proportion of successes/tries will be returned."
   ]
  },
  {
   "cell_type": "code",
   "execution_count": null,
   "metadata": {
    "vscode": {
     "languageId": "java"
    }
   },
   "outputs": [],
   "source": [
    "public double runSimulations(int num){\n",
    "    int success=o;\n",
    "    for(int i=0; i<num; i++ ){\n",
    "        if(simulate()){\n",
    "            success++\n",
    "        }\n",
    "        return success/num\n",
    "    }\n",
    "}"
   ]
  },
  {
   "cell_type": "markdown",
   "metadata": {},
   "source": [
    "## 2021 FRQ #1 Overview\n",
    "\n",
    "The reader is given a class labeled WordMatch which stores a secret string and contains methods to compare other strings to the secret string. In order to fully complete this question, the reader will have to create two methods that fulfill the requirements listed in each part. \n",
    "\n",
    "- Part A: scoreGuess method → comes up with a score for each guess\n",
    "\n",
    "- Part B: findBetterGuess method → choose best from 2 guesses\n"
   ]
  },
  {
   "cell_type": "markdown",
   "metadata": {},
   "source": [
    "## 2021 FRQ #1a\n",
    "\n",
    "- Compare guess to substring of secret\n",
    "- Uses of substring secret with correct length for comparison with guess\n",
    "- Loops through all necessary substrings of secret\n",
    "- Counts number of identified occurences of guess within secret\n",
    "- Calculate and returns correct final score (algorithm)"
   ]
  },
  {
   "cell_type": "code",
   "execution_count": null,
   "metadata": {
    "vscode": {
     "languageId": "java"
    }
   },
   "outputs": [],
   "source": [
    "public class WordMatch{\n",
    "    private String secret;\n",
    "\n",
    "    public WordMatch(String word){}\n",
    "\n",
    "    public int scoreGuess(String guess){\n",
    "        int result = 0;\n",
    "        \n",
    "        for (int i = 0; a < secret.length(); i++){\n",
    "            if(secret.substring(i).indexOf(guess) == 0){\n",
    "                result++;\n",
    "            }\n",
    "        }\n",
    "        return result + guess.length() + guess.length();\n",
    "    }\n",
    "}"
   ]
  },
  {
   "cell_type": "markdown",
   "metadata": {},
   "source": [
    "## 2021 FRQ #1b\n",
    "\n",
    "- Calls scoreGuess to get scores for guess1 and guess2\n",
    "- Compares the scores\n",
    "- Determines which guess1 and guess2 is alphabetically greater\n",
    "- Returns the identified guess1 or guess2 (algorithm)\n"
   ]
  },
  {
   "cell_type": "code",
   "execution_count": null,
   "metadata": {
    "vscode": {
     "languageId": "java"
    }
   },
   "outputs": [],
   "source": [
    "public String findBetterGuess(String guess1, String guess2){\n",
    "    if(scoreGuess(guess1) > scoreGuess(guess2)){\n",
    "        return guess1;\n",
    "    }\n",
    "    if(scoreGuess(guess2) > scoreGuess(guess1)){\n",
    "        return guess2;\n",
    "    }\n",
    "    if(guess1.compareTo(guess2) > 0){\n",
    "        return guess1;\n",
    "    }\n",
    "    \n",
    "    return guess2;\n",
    "}"
   ]
  },
  {
   "cell_type": "markdown",
   "metadata": {},
   "source": [
    "## Array attempts\n",
    "\n",
    "First attempt is a slight adjustment to the monkey code, making it print horizontally instead of vertical. Second attempt is a soccer array"
   ]
  },
  {
   "cell_type": "code",
   "execution_count": 2,
   "metadata": {
    "vscode": {
     "languageId": "java"
    }
   },
   "outputs": [
    {
     "name": "stdout",
     "output_type": "stream",
     "text": [
      "\n",
      "Monkey Jumpers Poem in Java Loopy\n",
      "5 little monkeys jumping on the bed...\n",
      "  Monkey 1   Monkey 2  Monkey 3  Monkey 4  Monkey 5 \n",
      "ʕง ͠° ͟ل͜ ͡°)ʔ   ʕ༼ ◕_◕ ༽ʔ  ʕ(▀ ⍡ ▀)ʔ ʕ ͡° ͜ʖ ° ͡ʔ   (◕‿◕✿)  \n",
      "  \\_⏄_/     \\_⎏_/     \\_⎐_/    \\_⍾_/     \\_⍾_/  \n",
      "  --0--      ++1++     <-2->     ==3==     ==4==   \n",
      "  ⎛   ⎞       ⌋ ⌊      〈  〉    _/ \\_     _/ \\_  \n",
      "4 little monkeys jumping on the bed...\n",
      "  Monkey 1   Monkey 2  Monkey 3  Monkey 4 \n",
      "ʕง ͠° ͟ل͜ ͡°)ʔ   ʕ༼ ◕_◕ ༽ʔ  ʕ(▀ ⍡ ▀)ʔ ʕ ͡° ͜ʖ ° ͡ʔ \n",
      "  \\_⏄_/     \\_⎏_/     \\_⎐_/    \\_⍾_/   \n",
      "  --0--      ++1++     <-2->     ==3==   \n",
      "  ⎛   ⎞       ⌋ ⌊      〈  〉    _/ \\_   \n",
      "3 little monkeys jumping on the bed...\n",
      "  Monkey 1   Monkey 2  Monkey 3 \n",
      "ʕง ͠° ͟ل͜ ͡°)ʔ   ʕ༼ ◕_◕ ༽ʔ  ʕ(▀ ⍡ ▀)ʔ \n",
      "  \\_⏄_/     \\_⎏_/     \\_⎐_/  \n",
      "  --0--      ++1++     <-2->   \n",
      "  ⎛   ⎞       ⌋ ⌊      〈  〉  \n",
      "2 little monkeys jumping on the bed...\n",
      "  Monkey 1   Monkey 2 \n",
      "ʕง ͠° ͟ل͜ ͡°)ʔ   ʕ༼ ◕_◕ ༽ʔ \n",
      "  \\_⏄_/     \\_⎏_/   \n",
      "  --0--      ++1++   \n",
      "  ⎛   ⎞       ⌋ ⌊    \n",
      "1 little monkeys jumping on the bed...\n",
      "  Monkey 1 \n",
      "ʕง ͠° ͟ل͜ ͡°)ʔ  \n",
      "  \\_⏄_/   \n",
      "  --0--    \n",
      "  ⎛   ⎞    \n",
      "No more monkeys jumping on the bed\n",
      "0000000000000000000000000000000000\n",
      "             THE END              \n"
     ]
    }
   ],
   "source": [
    "/*\n",
    "* Creator: Nighthawk Coding Society\n",
    " * Mini Lab Name: Hello Series,featuring Monkey Jumpers\n",
    " */\n",
    "\n",
    "/**\n",
    " * Class for Monkeys: a 2D array of Monkeys\n",
    " * As well as method to print the Poem\n",
    " */\n",
    "class MonkeyLoop {\n",
    "    //The area between class definition and the 1st method is where we keep data for object in Java\n",
    "    String [][] monkeys;    //2D Array: AP CSA Unit 8: 2D array of strings\n",
    "                            //2D array is like a grid [x][y]\n",
    "                            // or like a spreadsheet [row][column]\n",
    "\n",
    "    /**\n",
    "     * Constructor initializes a 2D array of Monkeys\n",
    "     */\n",
    "    public MonkeyLoop() {\n",
    "        //Storing Data in 2D arrays\n",
    "        monkeys = new String[][]{   //2D array above is just a name, \"new\" makes a container (\"object\")\n",
    "                //Monkey 1\n",
    "                {\n",
    "                        \"  Monkey 1\",\n",
    "                        \"ʕง ͠° ͟ل͜ ͡°)ʔ \",      //[0][0] eyes\n",
    "                        \"  \\\\_⏄_/  \",      //[0][1] chin\n",
    "                        \"  --0--   \",       //[0][2] body\n",
    "                        \"  ⎛   ⎞   \"        //[0][3] legs\n",
    "                },\n",
    "                //Monkey 2\n",
    "                {\n",
    "                        \"  Monkey 2\",\n",
    "                        \" ʕ༼ ◕_◕ ༽ʔ\",       //[1][0]\n",
    "                        \"  \\\\_⎏_/  \",\n",
    "                        \"  ++1++  \",\n",
    "                        \"   ⌋ ⌊   \"\n",
    "                },\n",
    "                //Monkey 3\n",
    "                {\n",
    "                        \" Monkey 3\",\n",
    "                        \" ʕ(▀ ⍡ ▀)ʔ\",       //[2][0]\n",
    "                        \"  \\\\_⎐_/ \",\n",
    "                        \"  <-2->  \",\n",
    "                        \"  〈  〉 \"\n",
    "                },\n",
    "                //Monkey 4\n",
    "                {\n",
    "                        \" Monkey 4\",\n",
    "                        \"ʕ ͡° ͜ʖ ° ͡ʔ\",        //[3][0]\n",
    "                        \"  \\\\_⍾_/  \",\n",
    "                        \"  ==3==  \",\n",
    "                        \"  _/ \\\\_  \"\n",
    "                },\n",
    "                //Monkey 5\n",
    "                {\n",
    "                        \" Monkey 5\",\n",
    "                        \"  (◕‿◕✿) \",          //[4][0]\n",
    "                        \"  \\\\_⍾_/ \",          //[4][1]\n",
    "                        \"  ==4==  \",          //[4][2]\n",
    "                        \"  _/ \\\\_ \"           //[4][3]\n",
    "                },\n",
    "               \n",
    "        };\n",
    "    }\n",
    "\n",
    "    /**\n",
    "     * Loop and print monkeys in array\n",
    "     * ... repeat until you reach zero  ...\n",
    "     */\n",
    "    public void printPoem() {\n",
    "        //begin the poem\n",
    "        System.out.println();\n",
    "        System.out.println(\"Monkey Jumpers Poem in Java Loopy\");\n",
    "\n",
    "        // monkeys (non-primitive) defined in constructor knows its length\n",
    "        int monkeyCount = monkeys.length;\n",
    "        int rowCount = 0;\n",
    "        for (int i = monkeyCount; i >= 1; i--)  //loops through 2D array length backwards\n",
    "        {\n",
    "\n",
    "            //this print statement shows current count of Monkeys\n",
    "            //  concatenation (+) of the loop variable and string to form a countdown message\n",
    "            System.out.println(i + \" little monkeys jumping on the bed...\");\n",
    "\n",
    "            for (int col = 0; col < monkeys[rowCount].length; col++) {\n",
    "\n",
    "                for (int row = 0; row < monkeyCount; row++) {  //cycles through \"cells\" of 2d array\n",
    "\n",
    "                    // prints specific part of the monkey from the column\n",
    "                    System.out.print(monkeys[row][col] + \" \");\n",
    "\n",
    "                }\n",
    "\n",
    "                //this new line gives separation between stanza of poem\n",
    "                System.out.println();\n",
    "            }\n",
    "\n",
    "            rowCount += 1;\n",
    "            //countdown for poem, decrementing monkeyCount variable by 1\n",
    "            monkeyCount -= 1;\n",
    "        }\n",
    "\n",
    "        //out of all the loops, prints finishing messages\n",
    "        System.out.println(\"No more monkeys jumping on the bed\");\n",
    "        System.out.println(\"0000000000000000000000000000000000\");\n",
    "        System.out.println(\"             THE END              \");\n",
    "    }\n",
    "\n",
    "    /**\n",
    "    * A Java Driver/Test method that is the entry point for execution\n",
    "    */\n",
    "    public static void main(String[] args)  {\n",
    "        new MonkeyLoop().printPoem();   //a new monkey list and output in one step\n",
    "    }\n",
    "\n",
    "}\n",
    "MonkeyLoop.main(null);"
   ]
  },
  {
   "cell_type": "code",
   "execution_count": 2,
   "metadata": {
    "vscode": {
     "languageId": "java"
    }
   },
   "outputs": [
    {
     "ename": "CompilationException",
     "evalue": "",
     "output_type": "error",
     "traceback": [
      "\u001b[1m\u001b[30m|   \u001b[1m\u001b[30m        System.out.println(\u001b[0m\u001b[1m\u001b[30m\u001b[41m\u001b[0m\u001b[1m\u001b[30m“The Great Story of the Players Who Shot A Soccer Ball”);\u001b[0m",
      "\u001b[1m\u001b[31millegal character: '\\u201c'\u001b[0m",
      "",
      "\u001b[1m\u001b[30m|   \u001b[1m\u001b[30m        System.out.println(“The Great\u001b[0m\u001b[1m\u001b[30m\u001b[41m\u001b[0m\u001b[1m\u001b[30m Story of the Players Who Shot A Soccer Ball”);\u001b[0m",
      "\u001b[1m\u001b[31m';' expected\u001b[0m",
      "",
      "\u001b[1m\u001b[30m|   \u001b[1m\u001b[30m        System.out.println(“The Great Story of\u001b[0m\u001b[1m\u001b[30m\u001b[41m\u001b[0m\u001b[1m\u001b[30m the Players Who Shot A Soccer Ball”);\u001b[0m",
      "\u001b[1m\u001b[31m';' expected\u001b[0m",
      "",
      "\u001b[1m\u001b[30m|   \u001b[1m\u001b[30m        System.out.println(“The Great Story of the Players\u001b[0m\u001b[1m\u001b[30m\u001b[41m\u001b[0m\u001b[1m\u001b[30m Who Shot A Soccer Ball”);\u001b[0m",
      "\u001b[1m\u001b[31m';' expected\u001b[0m",
      "",
      "\u001b[1m\u001b[30m|   \u001b[1m\u001b[30m        System.out.println(“The Great Story of the Players Who Shot\u001b[0m\u001b[1m\u001b[30m\u001b[41m\u001b[0m\u001b[1m\u001b[30m A Soccer Ball”);\u001b[0m",
      "\u001b[1m\u001b[31m';' expected\u001b[0m",
      "",
      "\u001b[1m\u001b[30m|   \u001b[1m\u001b[30m        System.out.println(“The Great Story of the Players Who Shot A Soccer\u001b[0m\u001b[1m\u001b[30m\u001b[41m\u001b[0m\u001b[1m\u001b[30m Ball”);\u001b[0m",
      "\u001b[1m\u001b[31m';' expected\u001b[0m",
      "",
      "\u001b[1m\u001b[30m|   \u001b[1m\u001b[30m        System.out.println(“The Great Story of the Players Who Shot A Soccer Ball\u001b[0m\u001b[1m\u001b[30m\u001b[41m\u001b[0m\u001b[1m\u001b[30m”);\u001b[0m",
      "\u001b[1m\u001b[31millegal character: '\\u201d'\u001b[0m",
      "",
      "\u001b[1m\u001b[30m|   \u001b[1m\u001b[30m        System.out.println(“The Great Story of the Players Who Shot A Soccer \u001b[0m\u001b[1m\u001b[30m\u001b[41mBall\u001b[0m\u001b[1m\u001b[30m”);\u001b[0m",
      "\u001b[1m\u001b[31mnot a statement\u001b[0m",
      "",
      "\u001b[1m\u001b[30m|   \u001b[1m\u001b[30m        System.out.println(\u001b[0m\u001b[1m\u001b[30m\u001b[41m\u001b[0m\u001b[1m\u001b[30m“---------------------------------“);\u001b[0m",
      "\u001b[1m\u001b[31millegal character: '\\u201c'\u001b[0m",
      "",
      "\u001b[1m\u001b[30m|   \u001b[1m\u001b[30m        System.out.println(“---------------------------------\u001b[0m\u001b[1m\u001b[30m\u001b[41m\u001b[0m\u001b[1m\u001b[30m“);\u001b[0m",
      "\u001b[1m\u001b[31millegal character: '\\u201c'\u001b[0m",
      "",
      "\u001b[1m\u001b[30m|   \u001b[1m\u001b[30m            System.out.println(i + \u001b[0m\u001b[1m\u001b[30m\u001b[41m\u001b[0m\u001b[1m\u001b[30m” players shooting the ball...“);\u001b[0m",
      "\u001b[1m\u001b[31millegal character: '\\u201d'\u001b[0m",
      "",
      "\u001b[1m\u001b[30m|   \u001b[1m\u001b[30m            System.out.println(i + ” players shooting\u001b[0m\u001b[1m\u001b[30m\u001b[41m\u001b[0m\u001b[1m\u001b[30m the ball...“);\u001b[0m",
      "\u001b[1m\u001b[31m';' expected\u001b[0m",
      "",
      "\u001b[1m\u001b[30m|   \u001b[1m\u001b[30m            System.out.println(i + ” players shooting the ball\u001b[0m\u001b[1m\u001b[30m\u001b[41m\u001b[0m\u001b[1m\u001b[30m...“);\u001b[0m",
      "\u001b[1m\u001b[31m';' expected\u001b[0m",
      "",
      "\u001b[1m\u001b[30m|   \u001b[1m\u001b[30m            System.out.println(i + ” players shooting the ball...\u001b[0m\u001b[1m\u001b[30m\u001b[41m\u001b[0m\u001b[1m\u001b[30m“);\u001b[0m",
      "\u001b[1m\u001b[31millegal character: '\\u201c'\u001b[0m",
      ""
     ]
    }
   ],
   "source": [
    "class playerLoop {\n",
    "    // The area between class definition and the 1st method is where we keep data for object in Java\n",
    "    String [][] players;\n",
    "    /**\n",
    "     * Constructor initializes a 2D array of s\n",
    "     */\n",
    "    public playerLoop() {\n",
    "        //Storing Data in 2D arrays\n",
    "        players = new String[][]{\n",
    "                //Player 0\n",
    "                {\n",
    "                    \" o__\",\n",
    "                    \"/|  \",\n",
    "                    \"/ > o\"\n",
    "                },\n",
    "                //player 1\n",
    "                {\n",
    "                    \" o__\",\n",
    "                    \"/|  \",\n",
    "                    \"/ > o\"\n",
    "                },\n",
    "                //player 2\n",
    "                {\n",
    "                    \" o__\",\n",
    "                    \"/|  \",\n",
    "                    \"/ > o\"\n",
    "                },\n",
    "                //player 3\n",
    "                {\n",
    "                    \" o__\",\n",
    "                    \"/|  \",\n",
    "                    \"/ > o\"\n",
    "                },\n",
    "                //player 4\n",
    "                {\n",
    "                    \" o__\",\n",
    "                    \"/|  \",\n",
    "                    \"/ > o\"\n",
    "                },\n",
    "        };\n",
    "    }\n",
    "    /**\n",
    "     * Loop and print s in array\n",
    "     * ... repeat until you reach zero  ...\n",
    "     */\n",
    "    public void printPoem() {\n",
    "        //begin the poem\n",
    "        System.out.println();\n",
    "        System.out.println(“The Great Story of the Players Who Shot A Soccer Ball”);\n",
    "        System.out.println(“---------------------------------“);\n",
    "        // players (non-primitive) defined in constructor knows its length\n",
    "        int playerCount = players.length;\n",
    "        for (int i = playerCount; i >= 1; i--)  //loops through 2D array length backwards\n",
    "        {\n",
    "            //this print statement shows current count of players\n",
    "            //  concatenation (+) of the loop variable and string to form a countdown message\n",
    "            System.out.println(i + ” players shooting the ball...“);\n",
    "            //how many separate parts are there in a player player?\n",
    "            int partCount = players[0].length;\n",
    "            for (int row = 0; row < partCount; row++) {  //cycles through “cells” of 2d array\n",
    "                /*cycles through columns to print\n",
    "                each player part by part, will eventually print entire column*/\n",
    "                for (int col = 0; col < playerCount; col++) {\n",
    "                    // prints specific part of the player from the column\n",
    "                    System.out.print(players[col][row] + \"    \");\n",
    "                    //this is new line between separate parts\n",
    "                }\n",
    "                //this new line gives separation between stanza of poem\n",
    "                System.out.println();\n",
    "            }\n",
    "            //countdown for poem, decrementing playerCount variable by 1\n",
    "            System.out.println(\"One missed and got benched\");\n",
    "            playerCount -= 1;\n",
    "        }\n",
    "        //out of all the loops, prints finishing messages\n",
    "        System.out.println(\"No more players shooting in the field\");\n",
    "        System.out.println(\"------------------------------------\");\n",
    "        System.out.println(\"              THE END               \");\n",
    "    }\n",
    "    /**\n",
    "    * A Java Driver/Test method that is the entry point for execution\n",
    "    */\n",
    "    public static void main(String[] args)  {\n",
    "        new playerLoop().printPoem();   //a new player list and output in one step\n",
    "    }\n",
    "}\n",
    "playerLoop.main(null);"
   ]
  },
  {
   "cell_type": "markdown",
   "metadata": {},
   "source": [
    "## Working Code for Monkey\n",
    "\n",
    "For some reason the code wouldn't work when we tried to run it on here, Armaan managed to get it to work on his own device though.\n",
    "\n",
    "[WorkingCode](https://github.com/PrishaB/Team-5-Blog/blob/master/images/workingmonkeycode.jpeg)"
   ]
  }
 ],
 "metadata": {
  "kernelspec": {
   "display_name": "Java",
   "language": "java",
   "name": "java"
  },
  "language_info": {
   "codemirror_mode": "java",
   "file_extension": ".jshell",
   "mimetype": "text/x-java-source",
   "name": "Java",
   "pygments_lexer": "java",
   "version": "11.0.16+8-post-Ubuntu-0ubuntu120.04"
  },
  "orig_nbformat": 4
 },
 "nbformat": 4,
 "nbformat_minor": 2
}
