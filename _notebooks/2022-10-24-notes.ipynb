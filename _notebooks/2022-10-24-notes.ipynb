{
 "cells": [
  {
   "cell_type": "markdown",
   "metadata": {},
   "source": [
    "# Spring Boot Notes \n",
    "In this I'm trying to make a blogging application, sign in page, and login page using this tutorial https://www.youtube.com/watch?v=7iWlCl35p9o \n",
    "Here are my notes:  \n",
    "- Many to one means that for this one service you want the many different variables \n",
    "- @GeneratedValue will change the way that the information will be formatted in the database\n",
    "- @GeneratedValue(strategy=GenerationType.SEQUENCE)\n",
    "- @SequenceGenerator(name=\"   \", sequenceName = \"   \", allocationSize=50) this will alow you - to define the name of the generator, type of sequence, and name\n",
    "***\n",
    "- @GeneratedValue(strategy = GenerationType.TABLE) is also usable and it makes all the values into a database table but this is rather slow so sequences is typically more used\n",
    "- @GeneratedValue(strategy = GenerationType.TABLE, generator = \"book_generator\")\n",
    "- @TableGenerator(name=\"   \", table=\"   \", schema=\"  \")\n",
    "***\n",
    "- These are the primary key values and they have different options like auto(essentially the default dialect), identity (essentially default based on database column), sequence (gets value from primary key sequence), table(database table--> sequence ish) this is through use of Hibernate\n",
    "***\n",
    "- Optional—> if it Is null(so good for id values as ) ex  public Optional<Post> getById(Long id)\n",
    "- MVC stands for model view controller\n",
    "- Seed data is what we use to make initial values of data which we can use to test to see if the code is working or not\n",
    "***\n",
    "- The video had a usage of Thymeleaf which is something I'll have to go and research later since I'm still a bit confused on this bit\n",
    "- \"redirect:/\" will redirect the user back to the home (/) aka the root\n",
    "***\n",
    "***\n",
    "Halfway through the video right now, will finish updating this when done...."
   ]
  }
 ],
 "metadata": {
  "kernelspec": {
   "display_name": "Java",
   "language": "java",
   "name": "java"
  },
  "language_info": {
   "name": "java"
  },
  "orig_nbformat": 4
 },
 "nbformat": 4,
 "nbformat_minor": 2
}
