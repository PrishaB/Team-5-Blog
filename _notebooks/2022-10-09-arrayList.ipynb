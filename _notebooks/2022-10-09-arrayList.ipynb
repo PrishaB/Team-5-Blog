{
 "cells": [
  {
   "cell_type": "markdown",
   "metadata": {},
   "source": [
    "# Array List of Mental Health "
   ]
  },
  {
   "cell_type": "markdown",
   "metadata": {},
   "source": [
    "### add(int index, element)\n",
    "#### This method is used to add an element at a particular index in the list. When a single parameter is passed, it simply adds the element at the end of the list."
   ]
  },
  {
   "cell_type": "code",
   "execution_count": 40,
   "metadata": {},
   "outputs": [
    {
     "name": "stdout",
     "output_type": "stream",
     "text": [
      "Bipolar Disorder\n",
      "Anti-Depressants\n",
      "Attention-Defict Hyperactivity Disorder\n",
      "Xanax\n",
      "Schizophrenia\n",
      "Anxiety\n",
      "Depression\n"
     ]
    }
   ],
   "source": [
    "import java.util.*;\n",
    "      \n",
    "// create an empty array list with an initial capacity\n",
    "ArrayList<String> mentalhealth1_list = new ArrayList<String>(7);\n",
    "\n",
    "// use add() method to add values in the list\n",
    "mentalhealth1_list.add(\"Bipolar Disorder\");\n",
    "mentalhealth1_list.add(\"Attention-Defict Hyperactivity Disorder\");\n",
    "mentalhealth1_list.add(\"Schizophrenia\");\n",
    "mentalhealth1_list.add(\"Anxiety\");\n",
    "mentalhealth1_list.add(\"Depression\");\n",
    "  \n",
    "// Insert Nocolor in 2nd and 4th position in the list \t\n",
    "mentalhealth1_list.add(1,\"Anti-Depressants\");\t\n",
    "mentalhealth1_list.add(3,\"Xanax\");\t\t\n",
    "\n",
    "// Print out the colors in the ArrayList\n",
    "for (int i = 0; i < 7; i++)\n",
    "  {\n",
    "      System.out.println(mentalhealth1_list.get(i).toString());\n",
    "  }"
   ]
  },
  {
   "cell_type": "markdown",
   "metadata": {},
   "source": [
    "### addAll(int index, Collection collection)\n",
    "\n",
    "#### This method is used to add all the elements in the given collection to the list. When a single parameter is passed, it adds all the elements of the given collection at the end of the list."
   ]
  },
  {
   "cell_type": "code",
   "execution_count": 62,
   "metadata": {},
   "outputs": [
    {
     "name": "stdout",
     "output_type": "stream",
     "text": [
      "Hallucinattions\n",
      "Sadness\n",
      "Rapid Heartbeating\n",
      "Concentration\n",
      "Fidgeting\n",
      "Mood Swings\n",
      "Changes in Appetite\n",
      "Hallucinattions\n",
      "Sadness\n",
      "Rapid Heartbeating\n",
      "Concentration\n",
      "Fidgeting\n",
      "Mood Swings\n",
      "Changes in Appetite\n"
     ]
    }
   ],
   "source": [
    "// create an empty array list with an initial capacity\n",
    "ArrayList<String> Symptoms_list = new ArrayList<String>(7);\n",
    "\n",
    "// use add() method to add values in the list\n",
    "Symptoms_list.add(\"Hallucinattions\");\n",
    "Symptoms_list.add(\"Rapid Heartbeating\");\n",
    "Symptoms_list.add(\"Fidgeting\");\n",
    "Symptoms_list.add(\"Mood Swings\");\n",
    "Symptoms_list.add(\"Changes in Appetite\");\n",
    "    \n",
    "// Insert Nocolor in 2nd and 4th position in the list \t\n",
    "Symptoms_list.add(1,\"Sadness\");\t\n",
    "Symptoms_list.add(3,\"Concentration\");\t\t\n",
    "\n",
    "// Combines the two lists together inside of the symptoms_list\n",
    "Symptoms_list.addAll(Symptoms_list); \n",
    "\n",
    "for (int i = 0; i < 14; i++)\n",
    "  {\n",
    "      System.out.println(Symptoms_list.get(i).toString());\n",
    "  }"
   ]
  },
  {
   "cell_type": "markdown",
   "metadata": {},
   "source": [
    "### size()\n",
    "\n",
    "#### This method is used to return the size of the list."
   ]
  },
  {
   "cell_type": "code",
   "execution_count": 63,
   "metadata": {},
   "outputs": [
    {
     "data": {
      "text/plain": [
       "14"
      ]
     },
     "execution_count": 63,
     "metadata": {},
     "output_type": "execute_result"
    }
   ],
   "source": [
    "Symptoms_list.size();\n"
   ]
  },
  {
   "cell_type": "code",
   "execution_count": 41,
   "metadata": {},
   "outputs": [
    {
     "data": {
      "text/plain": [
       "7"
      ]
     },
     "execution_count": 41,
     "metadata": {},
     "output_type": "execute_result"
    }
   ],
   "source": [
    "mentalhealth1_list.size();"
   ]
  },
  {
   "cell_type": "markdown",
   "metadata": {},
   "source": [
    "### clear()\n",
    "#### This method is used to remove all the elements in the list. However, the reference of the list created is still stored."
   ]
  },
  {
   "cell_type": "code",
   "execution_count": 56,
   "metadata": {},
   "outputs": [
    {
     "name": "stdout",
     "output_type": "stream",
     "text": [
      "[]\n"
     ]
    }
   ],
   "source": [
    "Symptoms_list.clear();\n",
    "// list is empty now\n",
    "System.out.println(Symptoms_list);"
   ]
  },
  {
   "cell_type": "markdown",
   "metadata": {},
   "source": [
    "### remove(int index)\n",
    "#### This method removes an element from the specified index. It shifts subsequent elements(if any) to left and decreases their indexes by 1."
   ]
  },
  {
   "cell_type": "code",
   "execution_count": 42,
   "metadata": {},
   "outputs": [
    {
     "name": "stdout",
     "output_type": "stream",
     "text": [
      "Bipolar Disorder\n",
      "Attention-Defict Hyperactivity Disorder\n",
      "Xanax\n",
      "Schizophrenia\n",
      "Anxiety\n",
      "Depression\n"
     ]
    }
   ],
   "source": [
    "mentalhealth1_list.remove(1); // Removes \"Anti-Depressants\" --> the 2nd item in the index\n",
    "for (int i = 0; i <6 ; i++)\n",
    "  {\n",
    "      System.out.println(mentalhealth1_list.get(i).toString());\n",
    "  }"
   ]
  },
  {
   "cell_type": "markdown",
   "metadata": {},
   "source": [
    "### remove(element)\n",
    "#### This method is used to remove the first occurrence of the given element in the list."
   ]
  },
  {
   "cell_type": "code",
   "execution_count": 44,
   "metadata": {},
   "outputs": [
    {
     "name": "stdout",
     "output_type": "stream",
     "text": [
      "Attention-Defict Hyperactivity Disorder\n",
      "Xanax\n",
      "Schizophrenia\n",
      "Anxiety\n",
      "Depression\n"
     ]
    }
   ],
   "source": [
    "mentalhealth1_list.remove(\"Bipolar Disorder\"); // Removes \"Bipolar Disorder\"\n",
    "for (int i = 0; i < 5; i++)\n",
    "  {\n",
    "      System.out.println(mentalhealth1_list.get(i).toString());\n",
    "  }"
   ]
  },
  {
   "cell_type": "markdown",
   "metadata": {},
   "source": [
    "### get(int index)\n",
    "#### This method returns elements at the specified index."
   ]
  },
  {
   "cell_type": "code",
   "execution_count": 51,
   "metadata": {},
   "outputs": [
    {
     "data": {
      "text/plain": [
       "Anxiety"
      ]
     },
     "execution_count": 51,
     "metadata": {},
     "output_type": "execute_result"
    }
   ],
   "source": [
    "mentalhealth1_list.get(3);"
   ]
  },
  {
   "cell_type": "markdown",
   "metadata": {},
   "source": [
    "### set(int index, element)\n",
    "### This method replaces elements at a given index with the new element. This function returns the element which was just replaced by a new element."
   ]
  },
  {
   "cell_type": "code",
   "execution_count": 64,
   "metadata": {},
   "outputs": [
    {
     "name": "stdout",
     "output_type": "stream",
     "text": [
      "Behavorial Issues\n",
      "Sadness\n",
      "Rapid Heartbeating\n",
      "Concentration\n",
      "Fidgeting\n",
      "Mood Swings\n",
      "Changes in Appetite\n",
      "Hallucinattions\n",
      "Sadness\n",
      "Rapid Heartbeating\n",
      "Concentration\n",
      "Fidgeting\n",
      "Mood Swings\n",
      "Changes in Appetite\n"
     ]
    }
   ],
   "source": [
    "Symptoms_list.set(0, \"Behavorial Issues\");\n",
    "for (int i = 0; i < 14; i++)\n",
    "  {\n",
    "      System.out.println(Symptoms_list.get(i).toString());\n",
    "  }"
   ]
  },
  {
   "cell_type": "markdown",
   "metadata": {},
   "source": [
    "### indexOf(element)\n",
    "#### This method returns the first occurrence of the given element or -1 if the element is not present in the list."
   ]
  },
  {
   "cell_type": "code",
   "execution_count": 65,
   "metadata": {},
   "outputs": [
    {
     "data": {
      "text/plain": [
       "1"
      ]
     },
     "execution_count": 65,
     "metadata": {},
     "output_type": "execute_result"
    }
   ],
   "source": [
    "Symptoms_list.indexOf(\"Sadness\");\n"
   ]
  },
  {
   "cell_type": "code",
   "execution_count": 66,
   "metadata": {},
   "outputs": [
    {
     "data": {
      "text/plain": [
       "-1"
      ]
     },
     "execution_count": 66,
     "metadata": {},
     "output_type": "execute_result"
    }
   ],
   "source": [
    "Symptoms_list.indexOf(\"Anger\");\n"
   ]
  },
  {
   "cell_type": "markdown",
   "metadata": {},
   "source": [
    "### lastIndexOf(element)\n",
    "#### This method returns the last occurrence of the given element or -1 if the element is not present in the list."
   ]
  },
  {
   "cell_type": "code",
   "execution_count": 67,
   "metadata": {},
   "outputs": [
    {
     "data": {
      "text/plain": [
       "1"
      ]
     },
     "execution_count": 67,
     "metadata": {},
     "output_type": "execute_result"
    }
   ],
   "source": [
    "Symptoms_list.indexOf(\"Sadness\");"
   ]
  },
  {
   "cell_type": "code",
   "execution_count": 68,
   "metadata": {},
   "outputs": [
    {
     "data": {
      "text/plain": [
       "-1"
      ]
     },
     "execution_count": 68,
     "metadata": {},
     "output_type": "execute_result"
    }
   ],
   "source": [
    "Symptoms_list.indexOf(\"Anger\");"
   ]
  },
  {
   "cell_type": "markdown",
   "metadata": {},
   "source": [
    "### equals(element)\n",
    "#### This method is used to compare the equality of the given element with the elements of the list."
   ]
  },
  {
   "cell_type": "code",
   "execution_count": 69,
   "metadata": {},
   "outputs": [
    {
     "data": {
      "text/plain": [
       "false"
      ]
     },
     "execution_count": 69,
     "metadata": {},
     "output_type": "execute_result"
    }
   ],
   "source": [
    "Symptoms_list.equals(\"Anger\");"
   ]
  },
  {
   "cell_type": "markdown",
   "metadata": {},
   "source": [
    "### hashCode()\n",
    "#### This method is used to return the hashcode value of the given list."
   ]
  },
  {
   "cell_type": "code",
   "execution_count": 70,
   "metadata": {},
   "outputs": [
    {
     "data": {
      "text/plain": [
       "15047326"
      ]
     },
     "execution_count": 70,
     "metadata": {},
     "output_type": "execute_result"
    }
   ],
   "source": [
    "Symptoms_list.hashCode();\n"
   ]
  },
  {
   "cell_type": "markdown",
   "metadata": {},
   "source": [
    "### isEmpty()\n",
    "#### This method is used to check if the list is empty or not. It returns true if the list is empty, else false."
   ]
  },
  {
   "cell_type": "code",
   "execution_count": 71,
   "metadata": {},
   "outputs": [
    {
     "data": {
      "text/plain": [
       "true"
      ]
     },
     "execution_count": 71,
     "metadata": {},
     "output_type": "execute_result"
    }
   ],
   "source": [
    "ArrayList<String> medication_list = new ArrayList<String>(7);\n",
    "medication_list.isEmpty();"
   ]
  },
  {
   "cell_type": "code",
   "execution_count": 72,
   "metadata": {},
   "outputs": [
    {
     "data": {
      "text/plain": [
       "false"
      ]
     },
     "execution_count": 72,
     "metadata": {},
     "output_type": "execute_result"
    }
   ],
   "source": [
    "Symptoms_list.isEmpty();\n"
   ]
  },
  {
   "cell_type": "markdown",
   "metadata": {},
   "source": [
    "### contains(element)\n",
    "#### This method is used to check if the list contains the given element or not. It returns true if the list contains the element."
   ]
  },
  {
   "cell_type": "code",
   "execution_count": 75,
   "metadata": {},
   "outputs": [
    {
     "data": {
      "text/plain": [
       "true"
      ]
     },
     "execution_count": 75,
     "metadata": {},
     "output_type": "execute_result"
    }
   ],
   "source": [
    "Symptoms_list.contains(\"Mood Swings\");"
   ]
  },
  {
   "cell_type": "code",
   "execution_count": 76,
   "metadata": {},
   "outputs": [
    {
     "data": {
      "text/plain": [
       "false"
      ]
     },
     "execution_count": 76,
     "metadata": {},
     "output_type": "execute_result"
    }
   ],
   "source": [
    "Symptoms_list.contains(\"Disoreintation\");"
   ]
  },
  {
   "cell_type": "markdown",
   "metadata": {},
   "source": [
    "### containsAll(Collection collection)\n",
    "#### This method is used to check if the list contains all the collection of elements."
   ]
  },
  {
   "cell_type": "code",
   "execution_count": 77,
   "metadata": {},
   "outputs": [
    {
     "data": {
      "text/plain": [
       "true"
      ]
     },
     "execution_count": 77,
     "metadata": {},
     "output_type": "execute_result"
    }
   ],
   "source": [
    "Symptoms_list.containsAll(Symptoms_list);\n"
   ]
  },
  {
   "cell_type": "markdown",
   "metadata": {},
   "source": [
    "### sort(Comparator comp)\n",
    "#### This method is used to sort the elements of the list on the basis of the given comparator."
   ]
  },
  {
   "cell_type": "code",
   "execution_count": 79,
   "metadata": {},
   "outputs": [
    {
     "name": "stdout",
     "output_type": "stream",
     "text": [
      "Behavorial Issues\n",
      "Changes in Appetite\n",
      "Changes in Appetite\n",
      "Concentration\n",
      "Concentration\n",
      "Fidgeting\n",
      "Fidgeting\n",
      "Hallucinattions\n",
      "Mood Swings\n",
      "Mood Swings\n",
      "Rapid Heartbeating\n",
      "Rapid Heartbeating\n",
      "Sadness\n",
      "Sadness\n"
     ]
    }
   ],
   "source": [
    "import java.util.Collections;\n",
    "\n",
    "// Sorts the string in alphabetical order\n",
    "Collections.sort(Symptoms_list);\n",
    "for (int i = 0; i < 14; i++)\n",
    "  {\n",
    "      System.out.println(Symptoms_list.get(i).toString());\n",
    "  }"
   ]
  },
  {
   "cell_type": "markdown",
   "metadata": {},
   "source": [
    "## Resources Used\n",
    "- https://www.geeksforgeeks.org/loops-in-java/\n",
    "- https://www.programiz.com/java-programming/recursion\n",
    "- https://www.geeksforgeeks.org/program-for-nth-fibonacci-number/ "
   ]
  },
  {
   "cell_type": "markdown",
   "metadata": {},
   "source": []
  }
 ],
 "metadata": {
  "kernelspec": {
   "display_name": "Java",
   "language": "java",
   "name": "java"
  },
  "language_info": {
   "codemirror_mode": "java",
   "file_extension": ".jshell",
   "mimetype": "text/x-java-source",
   "name": "java",
   "pygments_lexer": "java",
   "version": "17.0.4.1+1"
  },
  "orig_nbformat": 4
 },
 "nbformat": 4,
 "nbformat_minor": 2
}
