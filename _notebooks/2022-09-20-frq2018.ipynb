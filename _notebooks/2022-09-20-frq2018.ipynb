{
 "cells": [
  {
   "cell_type": "code",
   "execution_count": null,
   "metadata": {},
   "outputs": [],
   "source": [
    "public class FrogSimulation {\n",
    "    private int goalDistance;\n",
    "    private int maxHops; \n",
    "    public FrogSimulation(int dist, int numHops){\n",
    "        goalDistance=dist;\n",
    "        maxHops=numHops;\n",
    "    }\n",
    "    private int hopDistance(){\n",
    "        for(int i=0; i<numHops; i++ ){\n",
    "            \n",
    "        }\n",
    "    }\n",
    "    public boolean simulate(){}\n",
    "    public double runSimulations(int num){}\n",
    "    \n",
    "}"
   ]
  }
 ],
 "metadata": {
  "kernelspec": {
   "display_name": "Java",
   "language": "java",
   "name": "java"
  },
  "language_info": {
   "name": "java"
  },
  "orig_nbformat": 4
 },
 "nbformat": 4,
 "nbformat_minor": 2
}
