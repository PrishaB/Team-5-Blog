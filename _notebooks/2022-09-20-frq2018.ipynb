{
 "cells": [
  {
   "cell_type": "markdown",
   "metadata": {},
   "source": [
    "# 2018 Frq "
   ]
  },
  {
   "cell_type": "markdown",
   "metadata": {},
   "source": [
    "## Question"
   ]
  },
  {
   "cell_type": "code",
   "execution_count": null,
   "metadata": {},
   "outputs": [],
   "source": [
    "public class FrogSimulation {\n",
    "    private int goalDistance;\n",
    "    private int maxHops;\n",
    "\n",
    "    public FrogSimulation(int dist, int numHops){\n",
    "        goalDistance=dist;\n",
    "        maxHops=numHops;\n",
    "    }\n",
    "\n",
    "    private int hopDistance(){}\n",
    "    public boolean simulate(){}\n",
    "    public double runSimulations(int num){}\n",
    "}"
   ]
  },
  {
   "cell_type": "markdown",
   "metadata": {},
   "source": [
    "### Part A\n",
    "- Complete method simulate.\n",
    "- Requirement: must use hopDistance\n",
    "- Return true if frog successfully reaches or goes past the goal "
   ]
  },
  {
   "cell_type": "code",
   "execution_count": null,
   "metadata": {},
   "outputs": [],
   "source": [
    "public boolean simulate(){\n",
    "    int location=0; \n",
    "    for (int i=0; i<numHops; i++ ){\n",
    "        location +=hopDistance();\n",
    "        if(goalDistance<=location){\n",
    "            return true;\n",
    "        } else if (location<0){\n",
    "            return false;\n",
    "        }\n",
    "    }\n",
    "    return false;\n",
    "}"
   ]
  },
  {
   "cell_type": "markdown",
   "metadata": {},
   "source": [
    "### Part B\n",
    "- Complete runSimulations method to do a certain amount of runs and then output the proportion of simulations where the frog reaches the goal "
   ]
  },
  {
   "cell_type": "code",
   "execution_count": null,
   "metadata": {},
   "outputs": [],
   "source": [
    "public double runSimulations(int num){\n",
    "    int success=0;\n",
    "    for(int i=0; i<num; i++ ){\n",
    "        if(simulate()){\n",
    "            success++\n",
    "        }\n",
    "        return success/num;\n",
    "    }\n",
    "}"
   ]
  }
 ],
 "metadata": {
  "kernelspec": {
   "display_name": "Java",
   "language": "java",
   "name": "java"
  },
  "language_info": {
   "name": "java"
  },
  "orig_nbformat": 4
 },
 "nbformat": 4,
 "nbformat_minor": 2
}
