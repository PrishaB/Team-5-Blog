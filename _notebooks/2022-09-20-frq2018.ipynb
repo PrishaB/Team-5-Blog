{
 "cells": [
  {
   "cell_type": "code",
   "execution_count": null,
   "metadata": {},
   "outputs": [],
   "source": [
    "public boolean simulate(){\n",
    "    int location=0; \n",
    "    for (int i=0; i<numHops; i++ ){\n",
    "        location +=hopDistance();\n",
    "        if(goalDistance<=location){\n",
    "            return true;\n",
    "        } else if (location<0){\n",
    "            return false;\n",
    "        }\n",
    "    }\n",
    "}"
   ]
  },
  {
   "cell_type": "code",
   "execution_count": null,
   "metadata": {},
   "outputs": [],
   "source": [
    "public double runSimulations(int num){\n",
    "    int success=0;\n",
    "    for(int i=0; i<num; i++ ){\n",
    "        if(simulate()){\n",
    "            success++\n",
    "        }\n",
    "        return(double)success/num;\n",
    "    }\n",
    "}"
   ]
  }
 ],
 "metadata": {
  "kernelspec": {
   "display_name": "Java",
   "language": "java",
   "name": "java"
  },
  "language_info": {
   "name": "java"
  },
  "orig_nbformat": 4
 },
 "nbformat": 4,
 "nbformat_minor": 2
}
